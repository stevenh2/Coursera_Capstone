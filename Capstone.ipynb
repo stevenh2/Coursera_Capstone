{
    "cells": [
        {
            "cell_type": "markdown",
            "metadata": {
                "collapsed": true
            },
            "source": "# Segmenting and Clustering Neighborhoods in Toronto\n\nExplore, segment, and cluster the neighborhoods in the city of Toronto.\n\nThis Notebook contains all the parts of the assignment. I've labeled them with the headings: Part 1, Part 2, Part 3"
        },
        {
            "cell_type": "markdown",
            "metadata": {},
            "source": "## Part 1 \n\n### Data Cleaning and Preprocessing\nIn this section we are going to clean and prepare the data using the following guidelines\n\n1. Rename the Postcode column to PostalCode\n2. Remove all rows with unassigned Boroughs\n3. Aggregate data so that Neightborhoods sharing more than one postal code are grouped in a comma separated value format\n4. Upate the value of unassigned Neighbourhoods with the value of the Borough"
        },
        {
            "cell_type": "code",
            "execution_count": 82,
            "metadata": {
                "scrolled": true
            },
            "outputs": [],
            "source": "import pandas as pd\nimport numpy as np\n"
        },
        {
            "cell_type": "markdown",
            "metadata": {},
            "source": "Read in the data from Wikipedia using the pd.read_html helper from the Pandas library\n\n"
        },
        {
            "cell_type": "code",
            "execution_count": 83,
            "metadata": {
                "scrolled": true
            },
            "outputs": [],
            "source": "df = pd.read_html(\"https://en.wikipedia.org/wiki/List_of_postal_codes_of_Canada:_M\")[0]"
        },
        {
            "cell_type": "code",
            "execution_count": 84,
            "metadata": {
                "scrolled": true
            },
            "outputs": [],
            "source": "#1. Rename column\ndf.rename(columns={'Postcode': 'PostalCode'}, inplace=True)"
        },
        {
            "cell_type": "code",
            "execution_count": 85,
            "metadata": {
                "scrolled": true
            },
            "outputs": [],
            "source": "#2. Filter out unassigned boroughs\nfiltered_data = df[df['Borough' ] != 'Not assigned'].reset_index(drop=True)\n   \n#3. Group by postal code to show neighborhoods sharing same postal code\ngroups = filtered_data.groupby(['PostalCode', 'Borough'], as_index=False).agg(lambda x: ','.join(x))\n\n#4. Update any neighborhoods that are unassigned and give them the name of the borough\ngroups.loc[groups['Neighbourhood'] == 'Not assigned', ['Neighbourhood']] = groups['Borough']\n# groups.loc[matching row, [columns] = values\n\n#groups"
        },
        {
            "cell_type": "markdown",
            "metadata": {},
            "source": "Show the shape of the cleaned data set"
        },
        {
            "cell_type": "code",
            "execution_count": 86,
            "metadata": {
                "scrolled": true
            },
            "outputs": [
                {
                    "data": {
                        "text/plain": "(103, 3)"
                    },
                    "execution_count": 86,
                    "metadata": {},
                    "output_type": "execute_result"
                }
            ],
            "source": "groups.shape"
        },
        {
            "cell_type": "markdown",
            "metadata": {},
            "source": "### Part 2\n\nImport the geo_data containing the Latitude and Longitute for each Neighbourhood and Borough and merge it into the original dataframe\n"
        },
        {
            "cell_type": "code",
            "execution_count": 87,
            "metadata": {
                "scrolled": true
            },
            "outputs": [],
            "source": "geo_data = pd.read_csv(\"https://cocl.us/Geospatial_data\")"
        },
        {
            "cell_type": "markdown",
            "metadata": {},
            "source": "First rename the column so we can use it for the key column in our merge."
        },
        {
            "cell_type": "code",
            "execution_count": 88,
            "metadata": {
                "scrolled": true
            },
            "outputs": [],
            "source": "\n# need to clean up column name so I can merge on the index\ngeo_data.rename(columns={'Postal Code': 'PostalCode'}, inplace=True)\n"
        },
        {
            "cell_type": "markdown",
            "metadata": {},
            "source": "Perform an inner join merge using the PostalCode column as the key"
        },
        {
            "cell_type": "code",
            "execution_count": 128,
            "metadata": {
                "scrolled": false
            },
            "outputs": [
                {
                    "data": {
                        "text/html": "<div>\n<style scoped>\n    .dataframe tbody tr th:only-of-type {\n        vertical-align: middle;\n    }\n\n    .dataframe tbody tr th {\n        vertical-align: top;\n    }\n\n    .dataframe thead th {\n        text-align: right;\n    }\n</style>\n<table border=\"1\" class=\"dataframe\">\n  <thead>\n    <tr style=\"text-align: right;\">\n      <th></th>\n      <th>PostalCode</th>\n      <th>Borough</th>\n      <th>Neighbourhood</th>\n      <th>Latitude_x</th>\n      <th>Longitude_x</th>\n      <th>Latitude_y</th>\n      <th>Longitude_y</th>\n    </tr>\n  </thead>\n  <tbody>\n    <tr>\n      <th>0</th>\n      <td>M1B</td>\n      <td>Scarborough</td>\n      <td>Rouge,Malvern</td>\n      <td>43.806686</td>\n      <td>-79.194353</td>\n      <td>43.806686</td>\n      <td>-79.194353</td>\n    </tr>\n    <tr>\n      <th>1</th>\n      <td>M1C</td>\n      <td>Scarborough</td>\n      <td>Highland Creek,Rouge Hill,Port Union</td>\n      <td>43.784535</td>\n      <td>-79.160497</td>\n      <td>43.784535</td>\n      <td>-79.160497</td>\n    </tr>\n    <tr>\n      <th>2</th>\n      <td>M1E</td>\n      <td>Scarborough</td>\n      <td>Guildwood,Morningside,West Hill</td>\n      <td>43.763573</td>\n      <td>-79.188711</td>\n      <td>43.763573</td>\n      <td>-79.188711</td>\n    </tr>\n    <tr>\n      <th>3</th>\n      <td>M1G</td>\n      <td>Scarborough</td>\n      <td>Woburn</td>\n      <td>43.770992</td>\n      <td>-79.216917</td>\n      <td>43.770992</td>\n      <td>-79.216917</td>\n    </tr>\n    <tr>\n      <th>4</th>\n      <td>M1H</td>\n      <td>Scarborough</td>\n      <td>Cedarbrae</td>\n      <td>43.773136</td>\n      <td>-79.239476</td>\n      <td>43.773136</td>\n      <td>-79.239476</td>\n    </tr>\n  </tbody>\n</table>\n</div>",
                        "text/plain": "  PostalCode      Borough                         Neighbourhood  Latitude_x  \\\n0        M1B  Scarborough                         Rouge,Malvern   43.806686   \n1        M1C  Scarborough  Highland Creek,Rouge Hill,Port Union   43.784535   \n2        M1E  Scarborough       Guildwood,Morningside,West Hill   43.763573   \n3        M1G  Scarborough                                Woburn   43.770992   \n4        M1H  Scarborough                             Cedarbrae   43.773136   \n\n   Longitude_x  Latitude_y  Longitude_y  \n0   -79.194353   43.806686   -79.194353  \n1   -79.160497   43.784535   -79.160497  \n2   -79.188711   43.763573   -79.188711  \n3   -79.216917   43.770992   -79.216917  \n4   -79.239476   43.773136   -79.239476  "
                    },
                    "execution_count": 128,
                    "metadata": {},
                    "output_type": "execute_result"
                }
            ],
            "source": "# perform an inner join merge using the PostalCode as the key\ngroups = groups.merge(geo_data, on='PostalCode', how='inner')\n\ngroups.head()"
        },
        {
            "cell_type": "code",
            "execution_count": 90,
            "metadata": {
                "scrolled": true
            },
            "outputs": [
                {
                    "data": {
                        "text/plain": "(103, 5)"
                    },
                    "execution_count": 90,
                    "metadata": {},
                    "output_type": "execute_result"
                }
            ],
            "source": "groups.shape"
        },
        {
            "cell_type": "markdown",
            "metadata": {},
            "source": "### Part 3\n\nData Analysis - Cluster and segment the neighborhoods\n"
        },
        {
            "cell_type": "markdown",
            "metadata": {},
            "source": "Get a subset of the dataframe that includes all Boroughs with the word Toronto in it"
        },
        {
            "cell_type": "code",
            "execution_count": 129,
            "metadata": {
                "scrolled": false
            },
            "outputs": [
                {
                    "data": {
                        "text/html": "<div>\n<style scoped>\n    .dataframe tbody tr th:only-of-type {\n        vertical-align: middle;\n    }\n\n    .dataframe tbody tr th {\n        vertical-align: top;\n    }\n\n    .dataframe thead th {\n        text-align: right;\n    }\n</style>\n<table border=\"1\" class=\"dataframe\">\n  <thead>\n    <tr style=\"text-align: right;\">\n      <th></th>\n      <th>index</th>\n      <th>PostalCode</th>\n      <th>Borough</th>\n      <th>Neighbourhood</th>\n      <th>Latitude_x</th>\n      <th>Longitude_x</th>\n      <th>Latitude_y</th>\n      <th>Longitude_y</th>\n    </tr>\n  </thead>\n  <tbody>\n    <tr>\n      <th>0</th>\n      <td>37</td>\n      <td>M4E</td>\n      <td>East Toronto</td>\n      <td>The Beaches</td>\n      <td>43.676357</td>\n      <td>-79.293031</td>\n      <td>43.676357</td>\n      <td>-79.293031</td>\n    </tr>\n    <tr>\n      <th>1</th>\n      <td>41</td>\n      <td>M4K</td>\n      <td>East Toronto</td>\n      <td>The Danforth West,Riverdale</td>\n      <td>43.679557</td>\n      <td>-79.352188</td>\n      <td>43.679557</td>\n      <td>-79.352188</td>\n    </tr>\n    <tr>\n      <th>2</th>\n      <td>42</td>\n      <td>M4L</td>\n      <td>East Toronto</td>\n      <td>The Beaches West,India Bazaar</td>\n      <td>43.668999</td>\n      <td>-79.315572</td>\n      <td>43.668999</td>\n      <td>-79.315572</td>\n    </tr>\n    <tr>\n      <th>3</th>\n      <td>43</td>\n      <td>M4M</td>\n      <td>East Toronto</td>\n      <td>Studio District</td>\n      <td>43.659526</td>\n      <td>-79.340923</td>\n      <td>43.659526</td>\n      <td>-79.340923</td>\n    </tr>\n    <tr>\n      <th>4</th>\n      <td>44</td>\n      <td>M4N</td>\n      <td>Central Toronto</td>\n      <td>Lawrence Park</td>\n      <td>43.728020</td>\n      <td>-79.388790</td>\n      <td>43.728020</td>\n      <td>-79.388790</td>\n    </tr>\n  </tbody>\n</table>\n</div>",
                        "text/plain": "   index PostalCode          Borough                  Neighbourhood  \\\n0     37        M4E     East Toronto                    The Beaches   \n1     41        M4K     East Toronto    The Danforth West,Riverdale   \n2     42        M4L     East Toronto  The Beaches West,India Bazaar   \n3     43        M4M     East Toronto                Studio District   \n4     44        M4N  Central Toronto                  Lawrence Park   \n\n   Latitude_x  Longitude_x  Latitude_y  Longitude_y  \n0   43.676357   -79.293031   43.676357   -79.293031  \n1   43.679557   -79.352188   43.679557   -79.352188  \n2   43.668999   -79.315572   43.668999   -79.315572  \n3   43.659526   -79.340923   43.659526   -79.340923  \n4   43.728020   -79.388790   43.728020   -79.388790  "
                    },
                    "execution_count": 129,
                    "metadata": {},
                    "output_type": "execute_result"
                }
            ],
            "source": "# Get a dataframe with only Boroughs containing 'Toronto' \nneighborhoods = groups[groups['Borough'].str.contains('Toronto')].reset_index()\n\nneighborhoods.head()\n"
        },
        {
            "cell_type": "code",
            "execution_count": 130,
            "metadata": {
                "scrolled": true
            },
            "outputs": [
                {
                    "data": {
                        "text/html": "<div>\n<style scoped>\n    .dataframe tbody tr th:only-of-type {\n        vertical-align: middle;\n    }\n\n    .dataframe tbody tr th {\n        vertical-align: top;\n    }\n\n    .dataframe thead th {\n        text-align: right;\n    }\n</style>\n<table border=\"1\" class=\"dataframe\">\n  <thead>\n    <tr style=\"text-align: right;\">\n      <th></th>\n      <th>Borough</th>\n      <th>Neighbourhood</th>\n      <th>Latitude_x</th>\n      <th>Longitude_x</th>\n      <th>Latitude_y</th>\n      <th>Longitude_y</th>\n    </tr>\n  </thead>\n  <tbody>\n    <tr>\n      <th>0</th>\n      <td>East Toronto</td>\n      <td>The Beaches</td>\n      <td>43.676357</td>\n      <td>-79.293031</td>\n      <td>43.676357</td>\n      <td>-79.293031</td>\n    </tr>\n    <tr>\n      <th>1</th>\n      <td>East Toronto</td>\n      <td>The Danforth West,Riverdale</td>\n      <td>43.679557</td>\n      <td>-79.352188</td>\n      <td>43.679557</td>\n      <td>-79.352188</td>\n    </tr>\n    <tr>\n      <th>2</th>\n      <td>East Toronto</td>\n      <td>The Beaches West,India Bazaar</td>\n      <td>43.668999</td>\n      <td>-79.315572</td>\n      <td>43.668999</td>\n      <td>-79.315572</td>\n    </tr>\n    <tr>\n      <th>3</th>\n      <td>East Toronto</td>\n      <td>Studio District</td>\n      <td>43.659526</td>\n      <td>-79.340923</td>\n      <td>43.659526</td>\n      <td>-79.340923</td>\n    </tr>\n    <tr>\n      <th>4</th>\n      <td>Central Toronto</td>\n      <td>Lawrence Park</td>\n      <td>43.728020</td>\n      <td>-79.388790</td>\n      <td>43.728020</td>\n      <td>-79.388790</td>\n    </tr>\n  </tbody>\n</table>\n</div>",
                        "text/plain": "           Borough                  Neighbourhood  Latitude_x  Longitude_x  \\\n0     East Toronto                    The Beaches   43.676357   -79.293031   \n1     East Toronto    The Danforth West,Riverdale   43.679557   -79.352188   \n2     East Toronto  The Beaches West,India Bazaar   43.668999   -79.315572   \n3     East Toronto                Studio District   43.659526   -79.340923   \n4  Central Toronto                  Lawrence Park   43.728020   -79.388790   \n\n   Latitude_y  Longitude_y  \n0   43.676357   -79.293031  \n1   43.679557   -79.352188  \n2   43.668999   -79.315572  \n3   43.659526   -79.340923  \n4   43.728020   -79.388790  "
                    },
                    "execution_count": 130,
                    "metadata": {},
                    "output_type": "execute_result"
                }
            ],
            "source": "# clean up dataframe\nneighborhoods.drop(['index', 'PostalCode'], inplace=True, axis=1)\nneighborhoods.head()\n"
        },
        {
            "cell_type": "code",
            "execution_count": 112,
            "metadata": {},
            "outputs": [
                {
                    "name": "stdout",
                    "output_type": "stream",
                    "text": "The dataframe has 4 boroughs and 39 neighborhoods.\n"
                }
            ],
            "source": "print('The dataframe has {} boroughs and {} neighborhoods.'.format(\n        len(neighborhoods['Borough'].unique()),\n        toronto_df.shape[0]\n    )\n)"
        },
        {
            "cell_type": "markdown",
            "metadata": {},
            "source": "Install geopy and Folium, so we can visualize the cluster of Neighborhoods on a map"
        },
        {
            "cell_type": "code",
            "execution_count": null,
            "metadata": {},
            "outputs": [],
            "source": "#!conda install -c conda-forge geopy --yes # uncomment this line if you haven't completed the Foursquare API lab\n#!conda install -c conda-forge folium=0.5.0 --yes # uncomment this line if you haven't completed the Foursquare API lab"
        },
        {
            "cell_type": "code",
            "execution_count": 107,
            "metadata": {},
            "outputs": [
                {
                    "name": "stdout",
                    "output_type": "stream",
                    "text": "Libraries imported.\n"
                }
            ],
            "source": "import json # library to handle JSON files\n\nfrom geopy.geocoders import Nominatim # convert an address into latitude and longitude values\n\nimport requests # library to handle requests\nfrom pandas.io.json import json_normalize # tranform JSON file into a pandas dataframe\n\n# Matplotlib and associated plotting modules\nimport matplotlib.cm as cm\nimport matplotlib.colors as colors\n# import k-means from clustering stage\nfrom sklearn.cluster import KMeans\n\nimport folium # map rendering library\n\nprint('Libraries imported.')"
        },
        {
            "cell_type": "code",
            "execution_count": 108,
            "metadata": {},
            "outputs": [
                {
                    "name": "stdout",
                    "output_type": "stream",
                    "text": "The geograpical coordinate of Toronto City are 43.653963, -79.387207.\n"
                }
            ],
            "source": "address = 'Toronto, Canada'\n\ngeolocator = Nominatim(user_agent=\"t_explorer\")\nlocation = geolocator.geocode(address)\nlatitude = location.latitude\nlongitude = location.longitude\nprint('The geograpical coordinate of Toronto City are {}, {}.'.format(latitude, longitude))"
        },
        {
            "cell_type": "code",
            "execution_count": null,
            "metadata": {
                "scrolled": false
            },
            "outputs": [],
            "source": "# create map of Toronto using latitude and longitude values\nmap_newyork = folium.Map(location=[latitude, longitude], zoom_start=10)\n\n# add markers to map\nfor lat, lng, borough, neighborhood in zip(neighborhoods['Latitude'], neighborhoods['Longitude'], neighborhoods['Borough'], neighborhoods['Neighbourhood']):\n    label = '{}, {}'.format(neighborhood, borough)\n    label = folium.Popup(label, parse_html=True)\n    folium.CircleMarker(\n        [lat, lng],\n        radius=5,\n        popup=label,\n        color='blue',\n        fill=True,\n        fill_color='#3186cc',\n        fill_opacity=0.7,\n        parse_html=False).add_to(map_newyork)  \n    \nmap_newyork"
        },
        {
            "cell_type": "markdown",
            "metadata": {},
            "source": "![Toronto Neighborhoods](toronto_neighborhoods.png)"
        },
        {
            "cell_type": "markdown",
            "metadata": {},
            "source": "Select one Borough and put the clusters on a map"
        },
        {
            "cell_type": "code",
            "execution_count": 115,
            "metadata": {},
            "outputs": [
                {
                    "data": {
                        "text/html": "<div>\n<style scoped>\n    .dataframe tbody tr th:only-of-type {\n        vertical-align: middle;\n    }\n\n    .dataframe tbody tr th {\n        vertical-align: top;\n    }\n\n    .dataframe thead th {\n        text-align: right;\n    }\n</style>\n<table border=\"1\" class=\"dataframe\">\n  <thead>\n    <tr style=\"text-align: right;\">\n      <th></th>\n      <th>Borough</th>\n      <th>Neighbourhood</th>\n      <th>Latitude</th>\n      <th>Longitude</th>\n    </tr>\n  </thead>\n  <tbody>\n    <tr>\n      <th>0</th>\n      <td>East Toronto</td>\n      <td>The Beaches</td>\n      <td>43.676357</td>\n      <td>-79.293031</td>\n    </tr>\n    <tr>\n      <th>1</th>\n      <td>East Toronto</td>\n      <td>The Danforth West,Riverdale</td>\n      <td>43.679557</td>\n      <td>-79.352188</td>\n    </tr>\n    <tr>\n      <th>2</th>\n      <td>East Toronto</td>\n      <td>The Beaches West,India Bazaar</td>\n      <td>43.668999</td>\n      <td>-79.315572</td>\n    </tr>\n    <tr>\n      <th>3</th>\n      <td>East Toronto</td>\n      <td>Studio District</td>\n      <td>43.659526</td>\n      <td>-79.340923</td>\n    </tr>\n    <tr>\n      <th>4</th>\n      <td>East Toronto</td>\n      <td>Business Reply Mail Processing Centre 969 Eastern</td>\n      <td>43.662744</td>\n      <td>-79.321558</td>\n    </tr>\n  </tbody>\n</table>\n</div>",
                        "text/plain": "        Borough                                      Neighbourhood   Latitude  \\\n0  East Toronto                                        The Beaches  43.676357   \n1  East Toronto                        The Danforth West,Riverdale  43.679557   \n2  East Toronto                      The Beaches West,India Bazaar  43.668999   \n3  East Toronto                                    Studio District  43.659526   \n4  East Toronto  Business Reply Mail Processing Centre 969 Eastern  43.662744   \n\n   Longitude  \n0 -79.293031  \n1 -79.352188  \n2 -79.315572  \n3 -79.340923  \n4 -79.321558  "
                    },
                    "execution_count": 115,
                    "metadata": {},
                    "output_type": "execute_result"
                }
            ],
            "source": "east_toronto = neighborhoods[neighborhoods['Borough'] == 'East Toronto'].reset_index(drop=True)\neast_toronto.head()"
        },
        {
            "cell_type": "code",
            "execution_count": 116,
            "metadata": {},
            "outputs": [
                {
                    "name": "stdout",
                    "output_type": "stream",
                    "text": "The geograpical coordinate of East Toronto are 43.626243, -79.396962.\n"
                }
            ],
            "source": "address = 'East Toronto, Canada'\n\ngeolocator = Nominatim(user_agent=\"t_explorer\")\nlocation = geolocator.geocode(address)\nlatitude = location.latitude\nlongitude = location.longitude\nprint('The geograpical coordinate of East Toronto are {}, {}.'.format(latitude, longitude))"
        },
        {
            "cell_type": "code",
            "execution_count": null,
            "metadata": {
                "scrolled": true
            },
            "outputs": [],
            "source": "# create map of Manhattan using latitude and longitude values\nmap_east_toronto = folium.Map(location=[latitude, longitude], zoom_start=11)\n\n# add markers to map\nfor lat, lng, label in zip(east_toronto['Latitude'], east_toronto['Longitude'], east_toronto['Neighbourhood']):\n    label = folium.Popup(label, parse_html=True)\n    folium.CircleMarker(\n        [lat, lng],\n        radius=5,\n        popup=label,\n        color='blue',\n        fill=True,\n        fill_color='#3186cc',\n        fill_opacity=0.7,\n        parse_html=False).add_to(map_east_toronto)  \n    \nmap_east_toronto"
        },
        {
            "cell_type": "markdown",
            "metadata": {},
            "source": "![East Toronto](east_toronto.png)"
        }
    ],
    "metadata": {
        "kernelspec": {
            "display_name": "Python 3.6",
            "language": "python",
            "name": "python3"
        },
        "language_info": {
            "codemirror_mode": {
                "name": "ipython",
                "version": 3
            },
            "file_extension": ".py",
            "mimetype": "text/x-python",
            "name": "python",
            "nbconvert_exporter": "python",
            "pygments_lexer": "ipython3",
            "version": "3.6.8"
        }
    },
    "nbformat": 4,
    "nbformat_minor": 1
}