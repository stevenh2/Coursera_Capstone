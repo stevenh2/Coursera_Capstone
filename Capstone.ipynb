{
    "cells": [
        {
            "cell_type": "markdown",
            "metadata": {
                "collapsed": true
            },
            "source": "# Segmenting and Clustering Neighborhoods in Toronto\n\nIn this assignment, you will be required to explore, segment, and cluster the neighborhoods in the city of Toronto. However, unlike New York, the neighborhood data is not readily available on the internet. What is interesting about the field of data science is that each project can be challenging in its unique way, so you need to learn to be agile and refine the skill to learn new libraries and tools quickly depending on the project.\n\nFor the Toronto neighborhood data, a Wikipedia page exists that has all the information we need to explore and cluster the neighborhoods in Toronto. You will be required to scrape the Wikipedia page and wrangle the data, clean it, and then read it into a pandas dataframe so that it is in a structured format like the New York dataset.\n\nOnce the data is in a structured format, you can replicate the analysis that we did to the New York City dataset to explore and cluster the neighborhoods in the city of Toronto.\n\nYour submission will be a link to your Jupyter Notebook on your Github repository."
        },
        {
            "cell_type": "code",
            "execution_count": 163,
            "metadata": {},
            "outputs": [],
            "source": "import pandas as pd\nimport numpy as np\n"
        },
        {
            "cell_type": "markdown",
            "metadata": {},
            "source": "Read in the data from Wikipedia using the pd.read_html helper from the Pandas library\n\n"
        },
        {
            "cell_type": "code",
            "execution_count": 164,
            "metadata": {},
            "outputs": [],
            "source": "df = pd.read_html(\"https://en.wikipedia.org/wiki/List_of_postal_codes_of_Canada:_M\")[0]"
        },
        {
            "cell_type": "markdown",
            "metadata": {},
            "source": "### Data Cleaning and Preprocessing\nIn this section we are going to clean and prepare the data using the following guidelines\n\n1. Rename the Postcode column to PostalCode\n2. Remove all rows with unassigned Boroughs\n3. Aggregate data so that Neightborhoods sharing more than one postal code are grouped in a comma separated value format\n4. Upate the value of unassigned Neighbourhoods with the value of the Borough"
        },
        {
            "cell_type": "code",
            "execution_count": 169,
            "metadata": {},
            "outputs": [],
            "source": "#1. Rename column\ndf.rename(columns={'Postcode': 'PostalCode'}, inplace=True)"
        },
        {
            "cell_type": "code",
            "execution_count": null,
            "metadata": {
                "scrolled": false
            },
            "outputs": [],
            "source": "#2. Filter out unassigned boroughs\nfiltered_data = df[df['Borough' ] != 'Not assigned'].reset_index(drop=True)\n   \n#3. Group by postal code to show neighborhoods sharing same postal code\ngroups = filtered_data.groupby(['PostalCode', 'Borough'], as_index=False).agg(lambda x: ','.join(x))\n\n#4. Update any neighborhoods that are unassigned and give them the name of the borough\ngroups.loc[groups['Neighbourhood'] == 'Not assigned', ['Neighbourhood']] = groups['Borough']\n# groups.loc[matching row, [columns] = values\n\ngroups"
        },
        {
            "cell_type": "markdown",
            "metadata": {},
            "source": "Show the shape of the cleaned data set"
        },
        {
            "cell_type": "code",
            "execution_count": 167,
            "metadata": {},
            "outputs": [
                {
                    "data": {
                        "text/plain": "(103, 3)"
                    },
                    "execution_count": 167,
                    "metadata": {},
                    "output_type": "execute_result"
                }
            ],
            "source": "groups.shape"
        }
    ],
    "metadata": {
        "kernelspec": {
            "display_name": "Python 3.6",
            "language": "python",
            "name": "python3"
        },
        "language_info": {
            "codemirror_mode": {
                "name": "ipython",
                "version": 3
            },
            "file_extension": ".py",
            "mimetype": "text/x-python",
            "name": "python",
            "nbconvert_exporter": "python",
            "pygments_lexer": "ipython3",
            "version": "3.6.8"
        }
    },
    "nbformat": 4,
    "nbformat_minor": 1
}