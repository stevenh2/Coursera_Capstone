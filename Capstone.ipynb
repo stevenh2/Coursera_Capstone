{
    "cells": [
        {
            "cell_type": "markdown",
            "metadata": {
                "collapsed": true
            },
            "source": "# Capstone Notebook\n\nThis Notebook will be used to work through the Capstone course. \n\nOne project will be to find the ideal neighborhood to move to for your new job. \nYou just got a new job and it's too far away, so you need to move. You would like to move\nto a neighborhood that is close to your new job and also similar to your current neighborhood"
        },
        {
            "cell_type": "code",
            "execution_count": null,
            "metadata": {},
            "outputs": [],
            "source": "import pandas as pd\nimport numpy as np\n\nprint(\"Hello Capstone Project Course!\")"
        },
        {
            "cell_type": "code",
            "execution_count": null,
            "metadata": {},
            "outputs": [],
            "source": "df = pd.read_html(\"https://en.wikipedia.org/wiki/List_of_postal_codes_of_Canada:_M\")[0]\n\ndf.rename(columns={'Postcode': 'PostalCode'}, inplace=True)\n"
        },
        {
            "cell_type": "code",
            "execution_count": null,
            "metadata": {
                "scrolled": false
            },
            "outputs": [],
            "source": "# filter out unassigned boroughs\nfiltered_data = df[df['Borough' ] != 'Not assigned'].reset_index(drop=True)\n   \nfiltered_data\n"
        },
        {
            "cell_type": "code",
            "execution_count": 115,
            "metadata": {},
            "outputs": [
                {
                    "data": {
                        "text/html": "<div>\n<style scoped>\n    .dataframe tbody tr th:only-of-type {\n        vertical-align: middle;\n    }\n\n    .dataframe tbody tr th {\n        vertical-align: top;\n    }\n\n    .dataframe thead th {\n        text-align: right;\n    }\n</style>\n<table border=\"1\" class=\"dataframe\">\n  <thead>\n    <tr style=\"text-align: right;\">\n      <th></th>\n      <th></th>\n      <th>Neighbourhood</th>\n    </tr>\n    <tr>\n      <th>PostalCode</th>\n      <th>Borough</th>\n      <th></th>\n    </tr>\n  </thead>\n  <tbody>\n    <tr>\n      <th>M1B</th>\n      <th>Scarborough</th>\n      <td>Rouge,Malvern</td>\n    </tr>\n    <tr>\n      <th>M1C</th>\n      <th>Scarborough</th>\n      <td>Highland Creek,Rouge Hill,Port Union</td>\n    </tr>\n    <tr>\n      <th>M1E</th>\n      <th>Scarborough</th>\n      <td>Guildwood,Morningside,West Hill</td>\n    </tr>\n    <tr>\n      <th>M1G</th>\n      <th>Scarborough</th>\n      <td>Woburn</td>\n    </tr>\n    <tr>\n      <th>M1H</th>\n      <th>Scarborough</th>\n      <td>Cedarbrae</td>\n    </tr>\n    <tr>\n      <th>M1J</th>\n      <th>Scarborough</th>\n      <td>Scarborough Village</td>\n    </tr>\n    <tr>\n      <th>M1K</th>\n      <th>Scarborough</th>\n      <td>East Birchmount Park,Ionview,Kennedy Park</td>\n    </tr>\n    <tr>\n      <th>M1L</th>\n      <th>Scarborough</th>\n      <td>Clairlea,Golden Mile,Oakridge</td>\n    </tr>\n    <tr>\n      <th>M1M</th>\n      <th>Scarborough</th>\n      <td>Cliffcrest,Cliffside,Scarborough Village West</td>\n    </tr>\n    <tr>\n      <th>M1N</th>\n      <th>Scarborough</th>\n      <td>Birch Cliff,Cliffside West</td>\n    </tr>\n    <tr>\n      <th>M1P</th>\n      <th>Scarborough</th>\n      <td>Dorset Park,Scarborough Town Centre,Wexford He...</td>\n    </tr>\n    <tr>\n      <th>M1R</th>\n      <th>Scarborough</th>\n      <td>Maryvale,Wexford</td>\n    </tr>\n    <tr>\n      <th>M1S</th>\n      <th>Scarborough</th>\n      <td>Agincourt</td>\n    </tr>\n    <tr>\n      <th>M1T</th>\n      <th>Scarborough</th>\n      <td>Clarks Corners,Sullivan,Tam O'Shanter</td>\n    </tr>\n    <tr>\n      <th>M1V</th>\n      <th>Scarborough</th>\n      <td>Agincourt North,L'Amoreaux East,Milliken,Steel...</td>\n    </tr>\n    <tr>\n      <th>M1W</th>\n      <th>Scarborough</th>\n      <td>L'Amoreaux West</td>\n    </tr>\n    <tr>\n      <th>M1X</th>\n      <th>Scarborough</th>\n      <td>Upper Rouge</td>\n    </tr>\n    <tr>\n      <th>M2H</th>\n      <th>North York</th>\n      <td>Hillcrest Village</td>\n    </tr>\n    <tr>\n      <th>M2J</th>\n      <th>North York</th>\n      <td>Fairview,Henry Farm,Oriole</td>\n    </tr>\n    <tr>\n      <th>M2K</th>\n      <th>North York</th>\n      <td>Bayview Village</td>\n    </tr>\n    <tr>\n      <th>M2L</th>\n      <th>North York</th>\n      <td>Silver Hills,York Mills</td>\n    </tr>\n    <tr>\n      <th>M2M</th>\n      <th>North York</th>\n      <td>Newtonbrook,Willowdale</td>\n    </tr>\n    <tr>\n      <th>M2N</th>\n      <th>North York</th>\n      <td>Willowdale South</td>\n    </tr>\n    <tr>\n      <th>M2P</th>\n      <th>North York</th>\n      <td>York Mills West</td>\n    </tr>\n    <tr>\n      <th>M2R</th>\n      <th>North York</th>\n      <td>Willowdale West</td>\n    </tr>\n    <tr>\n      <th>M3A</th>\n      <th>North York</th>\n      <td>Parkwoods</td>\n    </tr>\n    <tr>\n      <th>M3B</th>\n      <th>North York</th>\n      <td>Don Mills North</td>\n    </tr>\n    <tr>\n      <th>M3C</th>\n      <th>North York</th>\n      <td>Flemingdon Park,Don Mills South</td>\n    </tr>\n    <tr>\n      <th>M3H</th>\n      <th>North York</th>\n      <td>Bathurst Manor,Downsview North,Wilson Heights</td>\n    </tr>\n    <tr>\n      <th>M3J</th>\n      <th>North York</th>\n      <td>Northwood Park,York University</td>\n    </tr>\n    <tr>\n      <th>...</th>\n      <th>...</th>\n      <td>...</td>\n    </tr>\n    <tr>\n      <th>M6C</th>\n      <th>York</th>\n      <td>Humewood-Cedarvale</td>\n    </tr>\n    <tr>\n      <th>M6E</th>\n      <th>York</th>\n      <td>Caledonia-Fairbanks</td>\n    </tr>\n    <tr>\n      <th>M6G</th>\n      <th>Downtown Toronto</th>\n      <td>Christie</td>\n    </tr>\n    <tr>\n      <th>M6H</th>\n      <th>West Toronto</th>\n      <td>Dovercourt Village,Dufferin</td>\n    </tr>\n    <tr>\n      <th>M6J</th>\n      <th>West Toronto</th>\n      <td>Little Portugal,Trinity</td>\n    </tr>\n    <tr>\n      <th>M6K</th>\n      <th>West Toronto</th>\n      <td>Brockton,Exhibition Place,Parkdale Village</td>\n    </tr>\n    <tr>\n      <th>M6L</th>\n      <th>North York</th>\n      <td>Downsview,North Park,Upwood Park</td>\n    </tr>\n    <tr>\n      <th>M6M</th>\n      <th>York</th>\n      <td>Del Ray,Keelesdale,Mount Dennis,Silverthorn</td>\n    </tr>\n    <tr>\n      <th>M6N</th>\n      <th>York</th>\n      <td>The Junction North,Runnymede</td>\n    </tr>\n    <tr>\n      <th>M6P</th>\n      <th>West Toronto</th>\n      <td>High Park,The Junction South</td>\n    </tr>\n    <tr>\n      <th>M6R</th>\n      <th>West Toronto</th>\n      <td>Parkdale,Roncesvalles</td>\n    </tr>\n    <tr>\n      <th>M6S</th>\n      <th>West Toronto</th>\n      <td>Runnymede,Swansea</td>\n    </tr>\n    <tr>\n      <th>M7A</th>\n      <th>Queen's Park</th>\n      <td>Not assigned</td>\n    </tr>\n    <tr>\n      <th>M7R</th>\n      <th>Mississauga</th>\n      <td>Canada Post Gateway Processing Centre</td>\n    </tr>\n    <tr>\n      <th>M7Y</th>\n      <th>East Toronto</th>\n      <td>Business Reply Mail Processing Centre 969 Eastern</td>\n    </tr>\n    <tr>\n      <th>M8V</th>\n      <th>Etobicoke</th>\n      <td>Humber Bay Shores,Mimico South,New Toronto</td>\n    </tr>\n    <tr>\n      <th>M8W</th>\n      <th>Etobicoke</th>\n      <td>Alderwood,Long Branch</td>\n    </tr>\n    <tr>\n      <th>M8X</th>\n      <th>Etobicoke</th>\n      <td>The Kingsway,Montgomery Road,Old Mill North</td>\n    </tr>\n    <tr>\n      <th>M8Y</th>\n      <th>Etobicoke</th>\n      <td>Humber Bay,King's Mill Park,Kingsway Park Sout...</td>\n    </tr>\n    <tr>\n      <th>M8Z</th>\n      <th>Etobicoke</th>\n      <td>Kingsway Park South West,Mimico NW,The Queensw...</td>\n    </tr>\n    <tr>\n      <th>M9A</th>\n      <th>Downtown Toronto</th>\n      <td>Queen's Park</td>\n    </tr>\n    <tr>\n      <th>M9B</th>\n      <th>Etobicoke</th>\n      <td>Cloverdale,Islington,Martin Grove,Princess Gar...</td>\n    </tr>\n    <tr>\n      <th>M9C</th>\n      <th>Etobicoke</th>\n      <td>Bloordale Gardens,Eringate,Markland Wood,Old B...</td>\n    </tr>\n    <tr>\n      <th>M9L</th>\n      <th>North York</th>\n      <td>Humber Summit</td>\n    </tr>\n    <tr>\n      <th>M9M</th>\n      <th>North York</th>\n      <td>Emery,Humberlea</td>\n    </tr>\n    <tr>\n      <th>M9N</th>\n      <th>York</th>\n      <td>Weston</td>\n    </tr>\n    <tr>\n      <th>M9P</th>\n      <th>Etobicoke</th>\n      <td>Westmount</td>\n    </tr>\n    <tr>\n      <th>M9R</th>\n      <th>Etobicoke</th>\n      <td>Kingsview Village,Martin Grove Gardens,Richvie...</td>\n    </tr>\n    <tr>\n      <th>M9V</th>\n      <th>Etobicoke</th>\n      <td>Albion Gardens,Beaumond Heights,Humbergate,Jam...</td>\n    </tr>\n    <tr>\n      <th>M9W</th>\n      <th>Etobicoke</th>\n      <td>Northwest</td>\n    </tr>\n  </tbody>\n</table>\n<p>103 rows \u00d7 1 columns</p>\n</div>",
                        "text/plain": "                                                                 Neighbourhood\nPostalCode Borough                                                            \nM1B        Scarborough                                           Rouge,Malvern\nM1C        Scarborough                    Highland Creek,Rouge Hill,Port Union\nM1E        Scarborough                         Guildwood,Morningside,West Hill\nM1G        Scarborough                                                  Woburn\nM1H        Scarborough                                               Cedarbrae\nM1J        Scarborough                                     Scarborough Village\nM1K        Scarborough               East Birchmount Park,Ionview,Kennedy Park\nM1L        Scarborough                           Clairlea,Golden Mile,Oakridge\nM1M        Scarborough           Cliffcrest,Cliffside,Scarborough Village West\nM1N        Scarborough                              Birch Cliff,Cliffside West\nM1P        Scarborough       Dorset Park,Scarborough Town Centre,Wexford He...\nM1R        Scarborough                                        Maryvale,Wexford\nM1S        Scarborough                                               Agincourt\nM1T        Scarborough                   Clarks Corners,Sullivan,Tam O'Shanter\nM1V        Scarborough       Agincourt North,L'Amoreaux East,Milliken,Steel...\nM1W        Scarborough                                         L'Amoreaux West\nM1X        Scarborough                                             Upper Rouge\nM2H        North York                                        Hillcrest Village\nM2J        North York                               Fairview,Henry Farm,Oriole\nM2K        North York                                          Bayview Village\nM2L        North York                                  Silver Hills,York Mills\nM2M        North York                                   Newtonbrook,Willowdale\nM2N        North York                                         Willowdale South\nM2P        North York                                          York Mills West\nM2R        North York                                          Willowdale West\nM3A        North York                                                Parkwoods\nM3B        North York                                          Don Mills North\nM3C        North York                          Flemingdon Park,Don Mills South\nM3H        North York            Bathurst Manor,Downsview North,Wilson Heights\nM3J        North York                           Northwood Park,York University\n...                                                                        ...\nM6C        York                                             Humewood-Cedarvale\nM6E        York                                            Caledonia-Fairbanks\nM6G        Downtown Toronto                                           Christie\nM6H        West Toronto                            Dovercourt Village,Dufferin\nM6J        West Toronto                                Little Portugal,Trinity\nM6K        West Toronto             Brockton,Exhibition Place,Parkdale Village\nM6L        North York                         Downsview,North Park,Upwood Park\nM6M        York                    Del Ray,Keelesdale,Mount Dennis,Silverthorn\nM6N        York                                   The Junction North,Runnymede\nM6P        West Toronto                           High Park,The Junction South\nM6R        West Toronto                                  Parkdale,Roncesvalles\nM6S        West Toronto                                      Runnymede,Swansea\nM7A        Queen's Park                                           Not assigned\nM7R        Mississauga                   Canada Post Gateway Processing Centre\nM7Y        East Toronto      Business Reply Mail Processing Centre 969 Eastern\nM8V        Etobicoke                Humber Bay Shores,Mimico South,New Toronto\nM8W        Etobicoke                                     Alderwood,Long Branch\nM8X        Etobicoke               The Kingsway,Montgomery Road,Old Mill North\nM8Y        Etobicoke         Humber Bay,King's Mill Park,Kingsway Park Sout...\nM8Z        Etobicoke         Kingsway Park South West,Mimico NW,The Queensw...\nM9A        Downtown Toronto                                       Queen's Park\nM9B        Etobicoke         Cloverdale,Islington,Martin Grove,Princess Gar...\nM9C        Etobicoke         Bloordale Gardens,Eringate,Markland Wood,Old B...\nM9L        North York                                            Humber Summit\nM9M        North York                                          Emery,Humberlea\nM9N        York                                                         Weston\nM9P        Etobicoke                                                 Westmount\nM9R        Etobicoke         Kingsview Village,Martin Grove Gardens,Richvie...\nM9V        Etobicoke         Albion Gardens,Beaumond Heights,Humbergate,Jam...\nM9W        Etobicoke                                                 Northwest\n\n[103 rows x 1 columns]"
                    },
                    "execution_count": 115,
                    "metadata": {},
                    "output_type": "execute_result"
                }
            ],
            "source": "#test = filtered_data[filtered_data['PostalCode'] == 'M6A']\n\n\n# group by postal code to show neighborhoods sharing same postal code\ngroups = filtered_data.groupby(['PostalCode', 'Borough']).agg(lambda x: ','.join(x))\n\n\n#groups.groups\n\ngroups\n#filtered_data.groupby(['PostalCode']).value_counts()\n\n\n"
        },
        {
            "cell_type": "code",
            "execution_count": null,
            "metadata": {},
            "outputs": [],
            "source": ""
        }
    ],
    "metadata": {
        "kernelspec": {
            "display_name": "Python 3.6",
            "language": "python",
            "name": "python3"
        },
        "language_info": {
            "codemirror_mode": {
                "name": "ipython",
                "version": 3
            },
            "file_extension": ".py",
            "mimetype": "text/x-python",
            "name": "python",
            "nbconvert_exporter": "python",
            "pygments_lexer": "ipython3",
            "version": "3.6.8"
        }
    },
    "nbformat": 4,
    "nbformat_minor": 1
}