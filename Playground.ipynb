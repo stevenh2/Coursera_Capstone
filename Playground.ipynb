{
    "cells": [
        {
            "metadata": {
                "collapsed": true
            },
            "cell_type": "markdown",
            "source": "### Testing\n"
        },
        {
            "metadata": {},
            "cell_type": "code",
            "source": "!conda install -c conda-forge folium --yes\n",
            "execution_count": null,
            "outputs": []
        },
        {
            "metadata": {},
            "cell_type": "code",
            "source": "import folium\n\nprint('Folium installed and imported')",
            "execution_count": null,
            "outputs": []
        },
        {
            "metadata": {},
            "cell_type": "code",
            "source": "world_map = folium.Map()\n\n",
            "execution_count": null,
            "outputs": []
        },
        {
            "metadata": {},
            "cell_type": "code",
            "source": "import pandas as pd\nimport numpy as np",
            "execution_count": null,
            "outputs": []
        },
        {
            "metadata": {},
            "cell_type": "code",
            "source": "# Get geo json file showing vancouver districts\n!wget 'https://maps.vancouver.ca/server/rest/services/Hosted/NeighbourhoodBoundaries/FeatureServer/0/query?outFields=*&where=1%3D1&f=geojson' -O world_countries.json\n\n",
            "execution_count": null,
            "outputs": []
        },
        {
            "metadata": {},
            "cell_type": "code",
            "source": "world_geo = r'world_countries.json'\n\nworld_geo",
            "execution_count": null,
            "outputs": []
        },
        {
            "metadata": {},
            "cell_type": "code",
            "source": "lat = 49.246292\nlng =  -123.116226\nvan_map = folium.Map(location=[lat,lng], zoom_start=12)\n\n\n",
            "execution_count": null,
            "outputs": []
        },
        {
            "metadata": {},
            "cell_type": "markdown",
            "source": "### Start Web Scraping\n\nWe are going to use BeautifulSoup for scraping"
        },
        {
            "metadata": {},
            "cell_type": "code",
            "source": "from bs4 import BeautifulSoup\nfrom bs4 import SoupStrainer\nimport requests\nimport pandas as pd\nimport numpy as np\nimport re",
            "execution_count": 74,
            "outputs": []
        },
        {
            "metadata": {
                "scrolled": false
            },
            "cell_type": "code",
            "source": "# url to scrape\nbase_url = 'https://www.zolo.ca/new-westminister-real-estate/'\nneighbourhoods = ['connaught-heights',\n                 'downtown-nw',\n                 'fraserview-nw',\n                 'glenbrooke-north',\n                 'moody-park',\n                 'quay',\n                 'queensborough',\n                 'queens-park',\n                 'sapperton',\n                 'the-heights-nw',\n                 'uptown-nw',\n                 'west-end-nw']\n\nprint(neighbourhoods)\n\nneighbourhood_urls= []\n\nfor n in neighbourhoods:\n    neighbourhood_urls.append(url + n)\n    \n#neighbourhood_urls",
            "execution_count": 87,
            "outputs": [
                {
                    "output_type": "stream",
                    "text": "['connaught-heights', 'downtown-nw', 'fraserview-nw', 'glenbrooke-north', 'moody-park', 'quay', 'queensborough', 'queens-park', 'sapperton', 'the-heights-nw', 'uptown-nw', 'west-end-nw']\n",
                    "name": "stdout"
                }
            ]
        },
        {
            "metadata": {},
            "cell_type": "code",
            "source": "def get_listings(url):\n    r = requests.get(url)\n    \n    # setup object and parser\n    soup = BeautifulSoup(r.text, 'html.parser')\n    \n    # SoupStrainer needs to match class exactly\n    attrs_dict = {\"class\": \"listings md-flex md-flex-row md-flex-wrap md-flex-align-start list-unstyled js-listings\"}\n\n    # create the listings subset doc\n    \n    # use the soupstrainer to get the subset of the document \n    # containing the information you would like to retreive\n    listings = SoupStrainer(\"ul\", attrs=attrs_dict)\n    \n    # The card-listing--location list contains location information\n    locations = soup.find_all(\"div\", class_=\"card-listing--location\")\n\n    addresses=[]\n    cities=[]\n    neighbourhoods=[]\n    latitudes=[]\n    longitudes=[]\n\n    for l in locations:\n        addresses.append(l.find_next(itemprop=\"streetAddress\").string)\n        cities.append(l.find_next(itemprop=\"addressLocality\").string)   \n        neighbourhoods.append(l.find_next(class_=\"neighbourhood\").contents[1])\n        latitudes.append(l.find_next(itemprop=\"latitude\")['content'])\n        longitudes.append(l.find_next(itemprop=\"longitude\")['content'])\n        \n        \n    # The card-listing--values list contains price info\n    info = soup.find_all(\"ul\", class_=\"card-listing--values\")\n\n    prices=[]\n    beds=[]\n    baths=[]\n    sqft=[]\n    built_in=[]\n\n    for i in info:\n        price_ele = i.find_next(class_=\"price\")  \n        prices.append(price_ele.find_next(itemprop=\"price\").string)\n\n        bed_ele = price_ele.find_next_sibling()    \n        beds.append(bed_ele.string.split()[0])\n\n        bath_ele = bed_ele.find_next_sibling()\n        baths.append(bath_ele.contents[1].split()[0])\n\n        sqft_ele = bath_ele.find_next_sibling(\"li\")\n        sqft_ = sqft_ele.contents[1].split()[0] if (sqft_ele.contents[1].split()[0]).isdigit() else np.nan\n        sqft.append(sqft_)\n\n        built_in_ele = sqft_ele.find_next_sibling(\"li\")      \n        year = built_in_ele.contents[2].string if built_in_ele != None else np.nan   \n        built_in.append(year)\n\n    # The card-listing--image div contains the MLS number\n    mls_info = soup.find_all(\"div\", \"card-listing--image\")\n\n    mls=[]\n\n    for i in mls_info:\n        # use regex to split the string to get MLS\n        mls.append(re.split(\":\", i.img['alt'])[1].strip())\n        \n    # zip all the data into an iterable zipped object. Once action performed it loses values\n    zipped = zip(mls,prices,beds,baths,sqft,addresses,cities,neighbourhoods,latitudes,longitudes,built_in)\n\n    # store zipped list data into variable\n    data = list(zipped)\n    \n    # create columns pandas dataframe\n    column_names = ['MLS', 'Price', 'Beds', 'Baths', 'SQFT', 'Street', 'City', 'Neighborhoud', 'Latitude', 'Longitude', 'Built In']\n\n    # create dataframe and assign columns to it\n    df = pd.DataFrame(data, columns=column_names)\n    \n    return df",
            "execution_count": 76,
            "outputs": []
        },
        {
            "metadata": {},
            "cell_type": "code",
            "source": "# drops all rows containing NA\ndf = get_listings(url)\n\ndf.dropna(inplace=True)\n\nindexNames=df[df['SQFT']==np.nan].index\n \n\n# Delete these row indexes from dataFrame\ndf.drop(indexNames,inplace=True)",
            "execution_count": 77,
            "outputs": []
        },
        {
            "metadata": {},
            "cell_type": "code",
            "source": "# convert price to int\ndf['Price'] = df['Price'].replace(',', '', regex=True).astype(int)\n\n# can't conver with missing data\n#df['Beds'] = df['Beds'].astype(int)\n#df['Baths'] = df['Baths'].astype(int)\ndf['SQFT'] = df['SQFT'].astype(int)\ndf['PPS'] = (df['Price'] / df['SQFT']).astype(int)\ndf['Built In'] = df['Built In'].astype(int)\n\nfrom datetime import date\ncurrent_year = date.today().year\n\ndf['Age'] = current_year - df['Built In']",
            "execution_count": 78,
            "outputs": []
        },
        {
            "metadata": {
                "scrolled": true
            },
            "cell_type": "code",
            "source": "df.sort_values(['PPS'], axis=0, ascending=True, inplace=True)\ndf",
            "execution_count": 79,
            "outputs": [
                {
                    "output_type": "execute_result",
                    "execution_count": 79,
                    "data": {
                        "text/plain": "        MLS    Price Beds Baths  SQFT                 Street             City  \\\n1  R2426481  2098000    7     6  4483      220 Durham Street  New Westminster   \n5  R2410706  2299888    7     6  4530       92 Glover Avenue  New Westminster   \n0  R2427592  1398000    5     3  2576     314 Seventh Avenue  New Westminster   \n3  R2418025   509999    2     1   882  205-38 Seventh Avenue  New Westminster   \n6  R2408074  1098000    4     2  1764       44 Eighth Avenue  New Westminster   \n2  R2419591  1858000    6     6  2948    622 Colborne Street  New Westminster   \n4  R2412728   515000    2     1   803  308-38 Seventh Avenue  New Westminster   \n\n       Neighborhoud   Latitude    Longitude  Built In  PPS  Age  \n1  GlenBrooke North  49.217510  -122.918228      2017  467    3  \n5  GlenBrooke North  49.222878  -122.917427      1958  507   62  \n0  GlenBrooke North  49.216042  -122.918625      1936  542   84  \n3  GlenBrooke North  49.219677  -122.912064      2003  578   17  \n6  GlenBrooke North  49.220573  -122.915092      1947  622   73  \n2  GlenBrooke North  49.218906  -122.912308      2018  630    2  \n4  GlenBrooke North  49.219677  -122.912064      2003  641   17  ",
                        "text/html": "<div>\n<style scoped>\n    .dataframe tbody tr th:only-of-type {\n        vertical-align: middle;\n    }\n\n    .dataframe tbody tr th {\n        vertical-align: top;\n    }\n\n    .dataframe thead th {\n        text-align: right;\n    }\n</style>\n<table border=\"1\" class=\"dataframe\">\n  <thead>\n    <tr style=\"text-align: right;\">\n      <th></th>\n      <th>MLS</th>\n      <th>Price</th>\n      <th>Beds</th>\n      <th>Baths</th>\n      <th>SQFT</th>\n      <th>Street</th>\n      <th>City</th>\n      <th>Neighborhoud</th>\n      <th>Latitude</th>\n      <th>Longitude</th>\n      <th>Built In</th>\n      <th>PPS</th>\n      <th>Age</th>\n    </tr>\n  </thead>\n  <tbody>\n    <tr>\n      <th>1</th>\n      <td>R2426481</td>\n      <td>2098000</td>\n      <td>7</td>\n      <td>6</td>\n      <td>4483</td>\n      <td>220 Durham Street</td>\n      <td>New Westminster</td>\n      <td>GlenBrooke North</td>\n      <td>49.217510</td>\n      <td>-122.918228</td>\n      <td>2017</td>\n      <td>467</td>\n      <td>3</td>\n    </tr>\n    <tr>\n      <th>5</th>\n      <td>R2410706</td>\n      <td>2299888</td>\n      <td>7</td>\n      <td>6</td>\n      <td>4530</td>\n      <td>92 Glover Avenue</td>\n      <td>New Westminster</td>\n      <td>GlenBrooke North</td>\n      <td>49.222878</td>\n      <td>-122.917427</td>\n      <td>1958</td>\n      <td>507</td>\n      <td>62</td>\n    </tr>\n    <tr>\n      <th>0</th>\n      <td>R2427592</td>\n      <td>1398000</td>\n      <td>5</td>\n      <td>3</td>\n      <td>2576</td>\n      <td>314 Seventh Avenue</td>\n      <td>New Westminster</td>\n      <td>GlenBrooke North</td>\n      <td>49.216042</td>\n      <td>-122.918625</td>\n      <td>1936</td>\n      <td>542</td>\n      <td>84</td>\n    </tr>\n    <tr>\n      <th>3</th>\n      <td>R2418025</td>\n      <td>509999</td>\n      <td>2</td>\n      <td>1</td>\n      <td>882</td>\n      <td>205-38 Seventh Avenue</td>\n      <td>New Westminster</td>\n      <td>GlenBrooke North</td>\n      <td>49.219677</td>\n      <td>-122.912064</td>\n      <td>2003</td>\n      <td>578</td>\n      <td>17</td>\n    </tr>\n    <tr>\n      <th>6</th>\n      <td>R2408074</td>\n      <td>1098000</td>\n      <td>4</td>\n      <td>2</td>\n      <td>1764</td>\n      <td>44 Eighth Avenue</td>\n      <td>New Westminster</td>\n      <td>GlenBrooke North</td>\n      <td>49.220573</td>\n      <td>-122.915092</td>\n      <td>1947</td>\n      <td>622</td>\n      <td>73</td>\n    </tr>\n    <tr>\n      <th>2</th>\n      <td>R2419591</td>\n      <td>1858000</td>\n      <td>6</td>\n      <td>6</td>\n      <td>2948</td>\n      <td>622 Colborne Street</td>\n      <td>New Westminster</td>\n      <td>GlenBrooke North</td>\n      <td>49.218906</td>\n      <td>-122.912308</td>\n      <td>2018</td>\n      <td>630</td>\n      <td>2</td>\n    </tr>\n    <tr>\n      <th>4</th>\n      <td>R2412728</td>\n      <td>515000</td>\n      <td>2</td>\n      <td>1</td>\n      <td>803</td>\n      <td>308-38 Seventh Avenue</td>\n      <td>New Westminster</td>\n      <td>GlenBrooke North</td>\n      <td>49.219677</td>\n      <td>-122.912064</td>\n      <td>2003</td>\n      <td>641</td>\n      <td>17</td>\n    </tr>\n  </tbody>\n</table>\n</div>"
                    },
                    "metadata": {}
                }
            ]
        }
    ],
    "metadata": {
        "kernelspec": {
            "name": "python3",
            "display_name": "Python 3.6",
            "language": "python"
        },
        "language_info": {
            "name": "python",
            "version": "3.6.8",
            "mimetype": "text/x-python",
            "codemirror_mode": {
                "name": "ipython",
                "version": 3
            },
            "pygments_lexer": "ipython3",
            "nbconvert_exporter": "python",
            "file_extension": ".py"
        }
    },
    "nbformat": 4,
    "nbformat_minor": 1
}